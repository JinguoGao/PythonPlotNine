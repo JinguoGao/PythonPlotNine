{
 "cells": [
  {
   "cell_type": "code",
   "execution_count": null,
   "metadata": {},
   "outputs": [],
   "source": []
  },
  {
   "cell_type": "code",
   "execution_count": null,
   "metadata": {},
   "outputs": [],
   "source": []
  },
  {
   "cell_type": "code",
   "execution_count": null,
   "metadata": {},
   "outputs": [],
   "source": []
  },
  {
   "cell_type": "code",
   "execution_count": null,
   "metadata": {},
   "outputs": [],
   "source": []
  },
  {
   "cell_type": "code",
   "execution_count": null,
   "metadata": {},
   "outputs": [],
   "source": []
  },
  {
   "cell_type": "code",
   "execution_count": null,
   "metadata": {},
   "outputs": [],
   "source": []
  },
  {
   "cell_type": "code",
   "execution_count": 6,
   "metadata": {},
   "outputs": [
    {
     "data": {
      "text/html": [
       "<script>requirejs.config({paths: { 'plotly': ['https://cdn.plot.ly/plotly-latest.min']},});if(!window.Plotly) {{require(['plotly'],function(plotly) {window.Plotly=plotly;});}}</script>"
      ],
      "text/vnd.plotly.v1+html": [
       "<script>requirejs.config({paths: { 'plotly': ['https://cdn.plot.ly/plotly-latest.min']},});if(!window.Plotly) {{require(['plotly'],function(plotly) {window.Plotly=plotly;});}}</script>"
      ]
     },
     "metadata": {},
     "output_type": "display_data"
    },
    {
     "data": {
      "application/vnd.plotly.v1+json": {
       "data": [
        {
         "type": "scatter",
         "uid": "5f9757bd-a1b7-11e8-ad54-784f437e4f33",
         "x": [
          1,
          2,
          3,
          4
         ],
         "y": [
          4,
          3,
          2,
          1
         ]
        }
       ],
       "layout": {
        "title": "hello world"
       }
      },
      "text/html": [
       "<div id=\"e58158c7-190f-4f0e-8288-c59a7d6f2d90\" style=\"height: 525px; width: 100%;\" class=\"plotly-graph-div\"></div><script type=\"text/javascript\">require([\"plotly\"], function(Plotly) { window.PLOTLYENV=window.PLOTLYENV || {};window.PLOTLYENV.BASE_URL=\"https://plot.ly\";Plotly.newPlot(\"e58158c7-190f-4f0e-8288-c59a7d6f2d90\", [{\"y\": [4, 3, 2, 1], \"x\": [1, 2, 3, 4], \"type\": \"scatter\", \"uid\": \"5f9f13f8-a1b7-11e8-8c1d-784f437e4f33\"}], {\"title\": \"hello world\"}, {\"linkText\": \"Export to plot.ly\", \"showLink\": true})});</script>"
      ],
      "text/vnd.plotly.v1+html": [
       "<div id=\"e58158c7-190f-4f0e-8288-c59a7d6f2d90\" style=\"height: 525px; width: 100%;\" class=\"plotly-graph-div\"></div><script type=\"text/javascript\">require([\"plotly\"], function(Plotly) { window.PLOTLYENV=window.PLOTLYENV || {};window.PLOTLYENV.BASE_URL=\"https://plot.ly\";Plotly.newPlot(\"e58158c7-190f-4f0e-8288-c59a7d6f2d90\", [{\"y\": [4, 3, 2, 1], \"x\": [1, 2, 3, 4], \"type\": \"scatter\", \"uid\": \"5f9f13f8-a1b7-11e8-8c1d-784f437e4f33\"}], {\"title\": \"hello world\"}, {\"linkText\": \"Export to plot.ly\", \"showLink\": true})});</script>"
      ]
     },
     "metadata": {},
     "output_type": "display_data"
    }
   ],
   "source": [
    "import plotly\n",
    "import plotly.graph_objs as go\n",
    "\n",
    "plotly.offline.init_notebook_mode(connected=True)\n",
    "\n",
    "plotly.offline.iplot({\n",
    "    \"data\": [go.Scatter(x=[1, 2, 3, 4], y=[4, 3, 2, 1])],\n",
    "    \"layout\": go.Layout(title=\"hello world\")\n",
    "})"
   ]
  },
  {
   "cell_type": "code",
   "execution_count": null,
   "metadata": {},
   "outputs": [],
   "source": []
  },
  {
   "cell_type": "code",
   "execution_count": null,
   "metadata": {},
   "outputs": [],
   "source": []
  },
  {
   "cell_type": "code",
   "execution_count": null,
   "metadata": {},
   "outputs": [],
   "source": []
  },
  {
   "cell_type": "code",
   "execution_count": null,
   "metadata": {},
   "outputs": [],
   "source": []
  },
  {
   "cell_type": "code",
   "execution_count": null,
   "metadata": {},
   "outputs": [],
   "source": []
  },
  {
   "cell_type": "code",
   "execution_count": null,
   "metadata": {},
   "outputs": [],
   "source": []
  },
  {
   "cell_type": "code",
   "execution_count": null,
   "metadata": {},
   "outputs": [],
   "source": []
  },
  {
   "cell_type": "code",
   "execution_count": null,
   "metadata": {},
   "outputs": [],
   "source": []
  },
  {
   "cell_type": "code",
   "execution_count": null,
   "metadata": {},
   "outputs": [],
   "source": []
  },
  {
   "cell_type": "code",
   "execution_count": null,
   "metadata": {},
   "outputs": [],
   "source": []
  },
  {
   "cell_type": "code",
   "execution_count": null,
   "metadata": {},
   "outputs": [],
   "source": []
  },
  {
   "cell_type": "code",
   "execution_count": 1,
   "metadata": {},
   "outputs": [
    {
     "name": "stdout",
     "output_type": "stream",
     "text": [
      "3\n"
     ]
    }
   ],
   "source": [
    "a = [1,2,3]\n",
    "try:\n",
    "    something = a[2]\n",
    "except:\n",
    "    print \"out of bounds\"\n",
    "else:\n",
    "    print something"
   ]
  },
  {
   "cell_type": "code",
   "execution_count": 2,
   "metadata": {},
   "outputs": [
    {
     "name": "stdout",
     "output_type": "stream",
     "text": [
      "out of bounds\n"
     ]
    }
   ],
   "source": [
    "try:\n",
    "    something = a[4]\n",
    "except:\n",
    "    print \"out of bounds\"\n",
    "else:\n",
    "    print something"
   ]
  },
  {
   "cell_type": "code",
   "execution_count": 3,
   "metadata": {},
   "outputs": [],
   "source": [
    "import os.path\n",
    "import shutil\n",
    "import tempfile\n",
    "from warnings import warn\n",
    "\n",
    "import IPython\n",
    "from IPython.utils.importstring import import_item\n",
    "from IPython.utils.path import (\n",
    "    get_home_dir, get_xdg_dir, get_xdg_cache_dir, compress_user, _writable_dir,\n",
    "    ensure_dir_exists, fs_encoding, filefind\n",
    ")\n",
    "from IPython.utils import py3compat"
   ]
  },
  {
   "cell_type": "code",
   "execution_count": 4,
   "metadata": {},
   "outputs": [],
   "source": [
    "def get_ipython_dir():\n",
    "    \"\"\"Get the IPython directory for this platform and user.\n",
    "\n",
    "    This uses the logic in `get_home_dir` to find the home directory\n",
    "    and then adds .ipython to the end of the path.\n",
    "    \"\"\"\n",
    "\n",
    "    env = os.environ\n",
    "    pjoin = os.path.join\n",
    "\n",
    "\n",
    "    ipdir_def = '.ipython'\n",
    "\n",
    "    home_dir = get_home_dir()\n",
    "    xdg_dir = get_xdg_dir()\n",
    "\n",
    "    # import pdb; pdb.set_trace()  # dbg\n",
    "    if 'IPYTHON_DIR' in env:\n",
    "        warn('The environment variable IPYTHON_DIR is deprecated. '\n",
    "                'Please use IPYTHONDIR instead.')\n",
    "    ipdir = env.get('IPYTHONDIR', env.get('IPYTHON_DIR', None))\n",
    "    if ipdir is None:\n",
    "        # not set explicitly, use ~/.ipython\n",
    "        ipdir = pjoin(home_dir, ipdir_def)\n",
    "        if xdg_dir:\n",
    "            # Several IPython versions (up to 1.x) defaulted to .config/ipython\n",
    "            # on Linux. We have decided to go back to using .ipython everywhere\n",
    "            xdg_ipdir = pjoin(xdg_dir, 'ipython')\n",
    "\n",
    "            if _writable_dir(xdg_ipdir):\n",
    "                cu = compress_user\n",
    "                if os.path.exists(ipdir):\n",
    "                    warn(('Ignoring {0} in favour of {1}. Remove {0} to '\n",
    "                        'get rid of this message').format(cu(xdg_ipdir), cu(ipdir)))\n",
    "                elif os.path.islink(xdg_ipdir):\n",
    "                    warn(('{0} is deprecated. Move link to {1} to '\n",
    "                        'get rid of this message').format(cu(xdg_ipdir), cu(ipdir)))\n",
    "                else:\n",
    "                    warn('Moving {0} to {1}'.format(cu(xdg_ipdir), cu(ipdir)))\n",
    "                    shutil.move(xdg_ipdir, ipdir)\n",
    "\n",
    "    ipdir = os.path.normpath(os.path.expanduser(ipdir))\n",
    "\n",
    "    if os.path.exists(ipdir) and not _writable_dir(ipdir):\n",
    "        # ipdir exists, but is not writable\n",
    "        warn(\"IPython dir '{0}' is not a writable location,\"\n",
    "                \" using a temp directory.\".format(ipdir))\n",
    "        ipdir = tempfile.mkdtemp()\n",
    "    elif not os.path.exists(ipdir):\n",
    "        parent = os.path.dirname(ipdir)\n",
    "        if not _writable_dir(parent):\n",
    "            # ipdir does not exist and parent isn't writable\n",
    "            warn(\"IPython parent '{0}' is not a writable location,\"\n",
    "                    \" using a temp directory.\".format(parent))\n",
    "            ipdir = tempfile.mkdtemp()\n",
    "\n",
    "    return py3compat.cast_unicode(ipdir, fs_encoding)\n",
    "\n",
    "\n",
    "def get_ipython_cache_dir():\n",
    "    \"\"\"Get the cache directory it is created if it does not exist.\"\"\"\n",
    "    xdgdir = get_xdg_cache_dir()\n",
    "    if xdgdir is None:\n",
    "        return get_ipython_dir()\n",
    "    ipdir = os.path.join(xdgdir, \"ipython\")\n",
    "    if not os.path.exists(ipdir) and _writable_dir(xdgdir):\n",
    "        ensure_dir_exists(ipdir)\n",
    "    elif not _writable_dir(xdgdir):\n",
    "        return get_ipython_dir()\n",
    "\n",
    "    return py3compat.cast_unicode(ipdir, fs_encoding)\n",
    "\n",
    "\n",
    "def get_ipython_package_dir():\n",
    "    \"\"\"Get the base directory where IPython itself is installed.\"\"\"\n",
    "    ipdir = os.path.dirname(IPython.__file__)\n",
    "    return py3compat.cast_unicode(ipdir, fs_encoding)\n",
    "\n",
    "\n",
    "def get_ipython_module_path(module_str):\n",
    "    \"\"\"Find the path to an IPython module in this version of IPython.\n",
    "\n",
    "    This will always find the version of the module that is in this importable\n",
    "    IPython package. This will always return the path to the ``.py``\n",
    "    version of the module.\n",
    "    \"\"\"\n",
    "    if module_str == 'IPython':\n",
    "        return os.path.join(get_ipython_package_dir(), '__init__.py')\n",
    "    mod = import_item(module_str)\n",
    "    the_path = mod.__file__.replace('.pyc', '.py')\n",
    "    the_path = the_path.replace('.pyo', '.py')\n",
    "    return py3compat.cast_unicode(the_path, fs_encoding)\n",
    "\n",
    "def locate_profile(profile='default'):\n",
    "    \"\"\"Find the path to the folder associated with a given profile.\n",
    "\n",
    "    I.e. find $IPYTHONDIR/profile_whatever.\n",
    "    \"\"\"\n",
    "    from IPython.core.profiledir import ProfileDir, ProfileDirError\n",
    "    try:\n",
    "        pd = ProfileDir.find_profile_dir_by_name(get_ipython_dir(), profile)\n",
    "    except ProfileDirError:\n",
    "        # IOError makes more sense when people are expecting a path\n",
    "        raise IOError(\"Couldn't find profile %r\" % profile)\n",
    "    return pd.location\n"
   ]
  },
  {
   "cell_type": "code",
   "execution_count": 5,
   "metadata": {},
   "outputs": [
    {
     "data": {
      "text/plain": [
       "u'/Users/jinguogao/.ipython'"
      ]
     },
     "execution_count": 5,
     "metadata": {},
     "output_type": "execute_result"
    }
   ],
   "source": [
    "get_ipython_dir()\n"
   ]
  },
  {
   "cell_type": "code",
   "execution_count": null,
   "metadata": {},
   "outputs": [],
   "source": []
  },
  {
   "cell_type": "code",
   "execution_count": null,
   "metadata": {},
   "outputs": [],
   "source": []
  },
  {
   "cell_type": "code",
   "execution_count": null,
   "metadata": {},
   "outputs": [],
   "source": []
  }
 ],
 "metadata": {
  "kernelspec": {
   "display_name": "Python 2",
   "language": "python",
   "name": "python2"
  },
  "language_info": {
   "codemirror_mode": {
    "name": "ipython",
    "version": 2
   },
   "file_extension": ".py",
   "mimetype": "text/x-python",
   "name": "python",
   "nbconvert_exporter": "python",
   "pygments_lexer": "ipython2",
   "version": "2.7.14"
  }
 },
 "nbformat": 4,
 "nbformat_minor": 2
}
